{
 "cells": [
  {
   "cell_type": "code",
   "execution_count": 1,
   "metadata": {},
   "outputs": [],
   "source": [
    "import torch\n",
    "import json\n",
    "import h5py\n",
    "import random\n",
    "import numpy as np\n",
    "from matplotlib.pyplot import imshow\n",
    "from PIL import Image, ImageDraw"
   ]
  },
  {
   "cell_type": "code",
   "execution_count": 2,
   "metadata": {},
   "outputs": [
    {
     "ename": "FileNotFoundError",
     "evalue": "[Errno 2] No such file or directory: '/home/kaihua/checkpoints/test/custom_prediction.json'",
     "output_type": "error",
     "traceback": [
      "\u001b[0;31m---------------------------------------------------------------------------\u001b[0m",
      "\u001b[0;31mFileNotFoundError\u001b[0m                         Traceback (most recent call last)",
      "\u001b[1;32m/data2/2021/zyj/Benchmark_ture/visualization/3.visualize_custom_SGDet.ipynb Cell 2\u001b[0m in \u001b[0;36m<cell line: 2>\u001b[0;34m()\u001b[0m\n\u001b[1;32m      <a href='vscode-notebook-cell://ssh-remote%2Bzyj-4/data2/2021/zyj/Benchmark_ture/visualization/3.visualize_custom_SGDet.ipynb#W1sdnNjb2RlLXJlbW90ZQ%3D%3D?line=0'>1</a>\u001b[0m \u001b[39m# load the following to files from DETECTED_SGG_DIR\u001b[39;00m\n\u001b[0;32m----> <a href='vscode-notebook-cell://ssh-remote%2Bzyj-4/data2/2021/zyj/Benchmark_ture/visualization/3.visualize_custom_SGDet.ipynb#W1sdnNjb2RlLXJlbW90ZQ%3D%3D?line=1'>2</a>\u001b[0m custom_prediction \u001b[39m=\u001b[39m json\u001b[39m.\u001b[39mload(\u001b[39mopen\u001b[39;49m(\u001b[39m'\u001b[39;49m\u001b[39m/home/kaihua/checkpoints/test/custom_prediction.json\u001b[39;49m\u001b[39m'\u001b[39;49m))\n\u001b[1;32m      <a href='vscode-notebook-cell://ssh-remote%2Bzyj-4/data2/2021/zyj/Benchmark_ture/visualization/3.visualize_custom_SGDet.ipynb#W1sdnNjb2RlLXJlbW90ZQ%3D%3D?line=2'>3</a>\u001b[0m custom_data_info \u001b[39m=\u001b[39m json\u001b[39m.\u001b[39mload(\u001b[39mopen\u001b[39m(\u001b[39m'\u001b[39m\u001b[39m/home/kaihua/checkpoints/test/custom_data_info.json\u001b[39m\u001b[39m'\u001b[39m))\n",
      "\u001b[0;31mFileNotFoundError\u001b[0m: [Errno 2] No such file or directory: '/home/kaihua/checkpoints/test/custom_prediction.json'"
     ]
    }
   ],
   "source": [
    "# load the following to files from DETECTED_SGG_DIR\n",
    "custom_prediction = json.load(open('/home/kaihua/checkpoints/test/custom_prediction.json'))\n",
    "custom_data_info = json.load(open('/home/kaihua/checkpoints/test/custom_data_info.json'))"
   ]
  },
  {
   "cell_type": "code",
   "execution_count": null,
   "metadata": {},
   "outputs": [
    {
     "ename": "",
     "evalue": "",
     "output_type": "error",
     "traceback": [
      "\u001b[1;31mRunning cells with 'sg19' requires ipykernel package.\n",
      "\u001b[1;31mRun the following command to install 'ipykernel' into the Python environment. \n",
      "\u001b[1;31mCommand: 'conda install -n sg19 ipykernel --update-deps --force-reinstall'"
     ]
    }
   ],
   "source": [
    "def draw_single_box(pic, box, color='red', draw_info=None):\n",
    "    draw = ImageDraw.Draw(pic)\n",
    "    x1,y1,x2,y2 = int(box[0]), int(box[1]), int(box[2]), int(box[3])\n",
    "    draw.rectangle(((x1, y1), (x2, y2)), outline=color)\n",
    "    if draw_info:\n",
    "        draw.rectangle(((x1, y1), (x1+50, y1+10)), fill=color)\n",
    "        info = draw_info\n",
    "        draw.text((x1, y1), info)\n",
    "        \n",
    "def print_list(name, input_list, scores=None):\n",
    "    for i, item in enumerate(input_list):\n",
    "        if scores == None:\n",
    "            print(name + ' ' + str(i) + ': ' + str(item))\n",
    "        else:\n",
    "            print(name + ' ' + str(i) + ': ' + str(item) + '; score: ' + str(scores[i]))\n",
    "    \n",
    "def draw_image(img_path, boxes, box_labels, rel_labels, box_scores=None, rel_scores=None):\n",
    "    size = get_size(Image.open(img_path).size)\n",
    "    pic = Image.open(img_path).resize(size)\n",
    "    num_obj = len(boxes)\n",
    "    for i in range(num_obj):\n",
    "        info = str(i) + '_' + box_labels[i]\n",
    "        draw_single_box(pic, boxes[i], draw_info=info)\n",
    "    display(pic)\n",
    "    print('*' * 50)\n",
    "    print_list('box_labels', box_labels, box_scores)\n",
    "    print('*' * 50)\n",
    "    print_list('rel_labels', rel_labels, rel_scores)\n",
    "    \n",
    "    return None\n",
    "\n",
    "def get_size(image_size):\n",
    "    min_size = 600\n",
    "    max_size = 1000\n",
    "    w, h = image_size\n",
    "    size = min_size\n",
    "    if max_size is not None:\n",
    "        min_original_size = float(min((w, h)))\n",
    "        max_original_size = float(max((w, h)))\n",
    "        if max_original_size / min_original_size * size > max_size:\n",
    "            size = int(round(max_size * min_original_size / max_original_size))\n",
    "    if (w <= h and w == size) or (h <= w and h == size):\n",
    "        return (w, h)\n",
    "    if w < h:\n",
    "        ow = size\n",
    "        oh = int(size * h / w)\n",
    "    else:\n",
    "        oh = size\n",
    "        ow = int(size * w / h)\n",
    "    return (ow, oh)"
   ]
  },
  {
   "cell_type": "code",
   "execution_count": null,
   "metadata": {},
   "outputs": [
    {
     "ename": "",
     "evalue": "",
     "output_type": "error",
     "traceback": [
      "\u001b[1;31mRunning cells with 'sg19' requires ipykernel package.\n",
      "\u001b[1;31mRun the following command to install 'ipykernel' into the Python environment. \n",
      "\u001b[1;31mCommand: 'conda install -n sg19 ipykernel --update-deps --force-reinstall'"
     ]
    }
   ],
   "source": [
    "# parameters\n",
    "image_idx = 11\n",
    "box_topk = 30 # select top k bounding boxes\n",
    "rel_topk = 20 # select top k relationships\n",
    "ind_to_classes = custom_data_info['ind_to_classes']\n",
    "ind_to_predicates = custom_data_info['ind_to_predicates']"
   ]
  },
  {
   "cell_type": "code",
   "execution_count": null,
   "metadata": {
    "scrolled": false
   },
   "outputs": [
    {
     "ename": "",
     "evalue": "",
     "output_type": "error",
     "traceback": [
      "\u001b[1;31mRunning cells with 'sg19' requires ipykernel package.\n",
      "\u001b[1;31mRun the following command to install 'ipykernel' into the Python environment. \n",
      "\u001b[1;31mCommand: 'conda install -n sg19 ipykernel --update-deps --force-reinstall'"
     ]
    }
   ],
   "source": [
    "image_path = custom_data_info['idx_to_files'][image_idx]\n",
    "boxes = custom_prediction[str(image_idx)]['bbox'][:box_topk]\n",
    "box_labels = custom_prediction[str(image_idx)]['bbox_labels'][:box_topk]\n",
    "box_scores = custom_prediction[str(image_idx)]['bbox_scores'][:box_topk]\n",
    "all_rel_labels = custom_prediction[str(image_idx)]['rel_labels']\n",
    "all_rel_scores = custom_prediction[str(image_idx)]['rel_scores']\n",
    "all_rel_pairs = custom_prediction[str(image_idx)]['rel_pairs']\n",
    "\n",
    "for i in range(len(box_labels)):\n",
    "    box_labels[i] = ind_to_classes[box_labels[i]]\n",
    "\n",
    "rel_labels = []\n",
    "rel_scores = []\n",
    "for i in range(len(all_rel_pairs)):\n",
    "    if all_rel_pairs[i][0] < box_topk and all_rel_pairs[i][1] < box_topk:\n",
    "        rel_scores.append(all_rel_scores[i])\n",
    "        label = str(all_rel_pairs[i][0]) + '_' + box_labels[all_rel_pairs[i][0]] + ' => ' + ind_to_predicates[all_rel_labels[i]] + ' => ' + str(all_rel_pairs[i][1]) + '_' + box_labels[all_rel_pairs[i][1]]\n",
    "        rel_labels.append(label)\n",
    "\n",
    "rel_labels = rel_labels[:rel_topk]\n",
    "rel_scores = rel_scores[:rel_topk]\n",
    "\n",
    "draw_image(image_path, boxes, box_labels, rel_labels, box_scores=box_scores, rel_scores=rel_scores)"
   ]
  },
  {
   "cell_type": "code",
   "execution_count": null,
   "metadata": {},
   "outputs": [
    {
     "ename": "",
     "evalue": "",
     "output_type": "error",
     "traceback": [
      "\u001b[1;31mRunning cells with 'sg19' requires ipykernel package.\n",
      "\u001b[1;31mRun the following command to install 'ipykernel' into the Python environment. \n",
      "\u001b[1;31mCommand: 'conda install -n sg19 ipykernel --update-deps --force-reinstall'"
     ]
    }
   ],
   "source": []
  },
  {
   "cell_type": "code",
   "execution_count": null,
   "metadata": {},
   "outputs": [
    {
     "ename": "",
     "evalue": "",
     "output_type": "error",
     "traceback": [
      "\u001b[1;31mRunning cells with 'sg19' requires ipykernel package.\n",
      "\u001b[1;31mRun the following command to install 'ipykernel' into the Python environment. \n",
      "\u001b[1;31mCommand: 'conda install -n sg19 ipykernel --update-deps --force-reinstall'"
     ]
    }
   ],
   "source": []
  }
 ],
 "metadata": {
  "kernelspec": {
   "display_name": "sg14",
   "language": "python",
   "name": "python3"
  },
  "language_info": {
   "codemirror_mode": {
    "name": "ipython",
    "version": 3
   },
   "file_extension": ".py",
   "mimetype": "text/x-python",
   "name": "python",
   "nbconvert_exporter": "python",
   "pygments_lexer": "ipython3",
   "version": "3.8.0"
  },
  "vscode": {
   "interpreter": {
    "hash": "102c63e8a8b9379d6a735b7dd7d10509834ce53f2258039f873ba0fcd13ded5d"
   }
  }
 },
 "nbformat": 4,
 "nbformat_minor": 2
}
